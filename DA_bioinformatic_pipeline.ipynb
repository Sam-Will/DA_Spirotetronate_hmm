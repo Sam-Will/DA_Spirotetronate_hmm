{
 "cells": [
  {
   "cell_type": "markdown",
   "metadata": {},
   "source": [
    "# HMM Profile for Diels-Alderase Cyclase Enzymes\n",
    "\n",
    "This repository contains the scripts, data, and documentation necessary for building and validating the HMM profile for Diels-Alderase cyclase enzymes.\n",
    "\n",
    "## Project Overview\n",
    "\n",
    "### Motivation\n",
    "Diels-Alderase cyclases catalyze [4+2] cycloaddition reactions in natural product biosynthesis. This model will add diels alderase annotation in antiSMASH.\n",
    "\n",
    "### Data Source\n",
    "The data for this project is curated from:\n",
    "> **Interrogation of an Enzyme Library Reveals the Catalytic Plasticity of Naturally Evolved [4+2] Cyclases**  \n",
    "> *ChemBioChem, 2023*  \n",
    "> [Read the article](https://chemistry-europe.onlinelibrary.wiley.com/doi/10.1002/cbic.202300382)"
   ]
  },
  {
   "cell_type": "code",
   "execution_count": null,
   "metadata": {
    "vscode": {
     "languageId": "shellscript"
    }
   },
   "outputs": [],
   "source": [
    "mafft --auto /home/saedwi/onedrive/02_Collab/Diels-Alderase/01_DA_fasta/DA_cyclase_library.fasta > DA_cyclase_library_mafft.fasta\n",
    "\n",
    "# Trimmed gaps and start and ends in bioedit, had to realign with mafft as abmU was out of sync\n",
    "\n",
    "# Build hmm from 16 aligned sequences\n",
    "hmmbuild DA_cyclase.hmm ../01_DA_fasta/DA_cyclase_library_mafft_realigned.fasta\n",
    "hmmpress DA_cyclase.hmm\n"
   ]
  },
  {
   "cell_type": "code",
   "execution_count": null,
   "metadata": {
    "vscode": {
     "languageId": "shellscript"
    }
   },
   "outputs": [],
   "source": [
    "hmmsearch --tblout results_test.tbl DA_cyclase.hmm ../03_Tests/test_sequences.fasta"
   ]
  }
 ],
 "metadata": {
  "language_info": {
   "name": "python"
  }
 },
 "nbformat": 4,
 "nbformat_minor": 2
}
