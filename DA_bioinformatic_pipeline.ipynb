{
 "cells": [
  {
   "cell_type": "markdown",
   "metadata": {},
   "source": [
    "# HMM Profile for Diels-Alderase Cyclase Enzymes\n",
    "\n",
    "This repository contains the scripts, data, and documentation necessary for building and validating the HMM profile for Diels-Alderase cyclase enzymes.\n",
    "\n",
    "## Project Overview\n",
    "\n",
    "### Motivation\n",
    "Diels-Alderase cyclases catalyze [4+2] cycloaddition reactions in natural product biosynthesis. This model will add diels alderase annotation in antiSMASH.\n",
    "\n",
    "### Data Source\n",
    "The data for this project is curated from:\n",
    "> **Interrogation of an Enzyme Library Reveals the Catalytic Plasticity of Naturally Evolved [4+2] Cyclases**  \n",
    "> *ChemBioChem, 2023*  \n",
    "> [Read the article](https://chemistry-europe.onlinelibrary.wiley.com/doi/10.1002/cbic.202300382)"
   ]
  },
  {
   "cell_type": "markdown",
   "metadata": {},
   "source": [
    "## First we'll have the DA cyclase model"
   ]
  },
  {
   "cell_type": "code",
   "execution_count": null,
   "metadata": {
    "vscode": {
     "languageId": "shellscript"
    }
   },
   "outputs": [],
   "source": [
    "mafft --auto /home/saedwi/onedrive/02_Collab/Diels-Alderase/01_DA_fasta/DA_cyclase_library.fasta > DA_cyclase_library_mafft.fasta\n",
    "\n",
    "# Trimmed gaps and start and ends in bioedit, had to realign with mafft as abmU was out of sync\n",
    "\n",
    "# Build hmm from 16 aligned sequences\n",
    "hmmbuild DA_cyclase.hmm ../01_DA_fasta/DA_cyclase_library_mafft_realigned.fasta\n",
    "hmmpress DA_cyclase.hmm\n",
    "\n",
    "# Also ran the leave one out analysis on the .fasta file and we look good. Results in master_hmmsearch_results.csv\n",
    "python leave_one_out.py"
   ]
  },
  {
   "cell_type": "code",
   "execution_count": null,
   "metadata": {
    "vscode": {
     "languageId": "shellscript"
    }
   },
   "outputs": [],
   "source": [
    "hmmsearch --tblout results_test.tbl DA_cyclase.hmm ../03_Tests/test_sequences.fasta"
   ]
  },
  {
   "cell_type": "markdown",
   "metadata": {},
   "source": [
    "## Now lets build a general cyclase model"
   ]
  },
  {
   "cell_type": "code",
   "execution_count": null,
   "metadata": {
    "vscode": {
     "languageId": "shellscript"
    }
   },
   "outputs": [],
   "source": [
    "mafft --auto /home/saedwi/onedrive/02_Collab/Diels-Alderase/01_DA_fasta/Non-spirotet/XSpiro_cyclase_library_cut.fasta > XSpiro_cyclase_cut_mafft.fasta\n",
    "\n",
    "# I think lets try removing Sol5, NgnD, IccD and IdmH\n",
    "# IdmH\tStreptomyces antibioticus NRRL 8167\n",
    "# IccD\tCylindrocladium ilicicola MFC-870, Talaromyces variabilis (Penicillium variabile)\n",
    "# NgnD\tNocardia argentinensis ATCC 31306\n",
    "# Sol5\tAlternaria solani\n",
    "\n",
    "# Trimmed gaps and start and ends in bioedit, had to realign with mafft as abmU was out of sync\n",
    "\n",
    "# Ran the leave one out analysis on the not cut one and I think the model is garbage\n",
    "\n",
    "python leave_one_out.py\n",
    "# Build hmm from 16 aligned sequences\n",
    "hmmbuild DA_cyclase.hmm ../01_DA_fasta/DA_cyclase_library_mafft_realigned.fasta\n",
    "hmmpress DA_cyclase.hmm "
   ]
  }
 ],
 "metadata": {
  "language_info": {
   "name": "python"
  }
 },
 "nbformat": 4,
 "nbformat_minor": 2
}
